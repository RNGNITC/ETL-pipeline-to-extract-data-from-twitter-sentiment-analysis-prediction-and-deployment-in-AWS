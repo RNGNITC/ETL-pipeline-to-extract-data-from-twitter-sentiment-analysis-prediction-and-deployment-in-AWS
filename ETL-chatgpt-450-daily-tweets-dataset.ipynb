{
 "cells": [
  {
   "cell_type": "code",
   "execution_count": 1,
   "id": "bed97122",
   "metadata": {
    "_cell_guid": "b1076dfc-b9ad-4769-8c92-a6c4dae69d19",
    "_uuid": "8f2839f25d086af736a60e9eeb907d3b93b6e0e5",
    "execution": {
     "iopub.execute_input": "2023-05-14T20:22:41.490891Z",
     "iopub.status.busy": "2023-05-14T20:22:41.490269Z",
     "iopub.status.idle": "2023-05-14T20:22:56.894274Z",
     "shell.execute_reply": "2023-05-14T20:22:56.892468Z"
    },
    "papermill": {
     "duration": 15.417412,
     "end_time": "2023-05-14T20:22:56.897813",
     "exception": false,
     "start_time": "2023-05-14T20:22:41.480401",
     "status": "completed"
    },
    "tags": []
   },
   "outputs": [
    {
     "name": "stdout",
     "output_type": "stream",
     "text": [
      "\u001b[33mWARNING: Running pip as the 'root' user can result in broken permissions and conflicting behaviour with the system package manager. It is recommended to use a virtual environment instead: https://pip.pypa.io/warnings/venv\u001b[0m\u001b[33m\r\n",
      "\u001b[0m"
     ]
    }
   ],
   "source": [
    "!pip install tweepy --quiet"
   ]
  },
  {
   "cell_type": "code",
   "execution_count": 2,
   "id": "a5830ab0",
   "metadata": {
    "execution": {
     "iopub.execute_input": "2023-05-14T20:22:56.916658Z",
     "iopub.status.busy": "2023-05-14T20:22:56.916209Z",
     "iopub.status.idle": "2023-05-14T20:22:58.139989Z",
     "shell.execute_reply": "2023-05-14T20:22:58.138797Z"
    },
    "papermill": {
     "duration": 1.237415,
     "end_time": "2023-05-14T20:22:58.143532",
     "exception": false,
     "start_time": "2023-05-14T20:22:56.906117",
     "status": "completed"
    },
    "tags": []
   },
   "outputs": [],
   "source": [
    "import os\n",
    "import numpy as np\n",
    "import tweepy as tw\n",
    "import pandas as pd\n",
    "import json\n",
    "import datetime as dt\n",
    "from datetime import datetime, timedelta\n",
    "#import wandb\n",
    "from tqdm import tqdm\n",
    "from sklearn.feature_extraction.text import CountVectorizer\n",
    "import matplotlib.pyplot as plt"
   ]
  },
  {
   "cell_type": "code",
   "execution_count": 3,
   "id": "6b758f2f",
   "metadata": {
    "execution": {
     "iopub.execute_input": "2023-05-14T20:22:58.178208Z",
     "iopub.status.busy": "2023-05-14T20:22:58.177774Z",
     "iopub.status.idle": "2023-05-14T20:22:58.527046Z",
     "shell.execute_reply": "2023-05-14T20:22:58.525555Z"
    },
    "papermill": {
     "duration": 0.36224,
     "end_time": "2023-05-14T20:22:58.530286",
     "exception": false,
     "start_time": "2023-05-14T20:22:58.168046",
     "status": "completed"
    },
    "tags": []
   },
   "outputs": [],
   "source": [
    "from kaggle_secrets import UserSecretsClient\n",
    "user_secrets = UserSecretsClient()\n",
    "\n",
    "BEARER_TOKEN = user_secrets.get_secret(\"BEARER_TOKEN\")"
   ]
  },
  {
   "cell_type": "code",
   "execution_count": 4,
   "id": "55d9fad2",
   "metadata": {
    "execution": {
     "iopub.execute_input": "2023-05-14T20:22:58.566787Z",
     "iopub.status.busy": "2023-05-14T20:22:58.565499Z",
     "iopub.status.idle": "2023-05-14T20:22:58.870114Z",
     "shell.execute_reply": "2023-05-14T20:22:58.868496Z"
    },
    "papermill": {
     "duration": 0.317869,
     "end_time": "2023-05-14T20:22:58.873094",
     "exception": false,
     "start_time": "2023-05-14T20:22:58.555225",
     "status": "completed"
    },
    "tags": []
   },
   "outputs": [
    {
     "name": "stdout",
     "output_type": "stream",
     "text": [
      "RT @jhonatan9902_g: There's a fine line between. 1/2 ChatGPT账号 \n",
      "#ChatGPT账号 https://t.co/epfEzDgqvp\n",
      "[{'domain': {'id': '46', 'name': 'Business Taxonomy', 'description': 'Categories within Brand Verticals that narrow down the scope of Brands'}, 'entity': {'id': '1557697333571112960', 'name': 'Technology Business', 'description': 'Brands, companies, advertisers and every non-person handle with the profit intent related to softwares, apps, communication equipments, hardwares'}}, {'domain': {'id': '47', 'name': 'Brand', 'description': 'Brands and Companies'}, 'entity': {'id': '1631434932688920576', 'name': 'OpenAI'}}, {'domain': {'id': '48', 'name': 'Product', 'description': 'Products created by Brands.  Examples: Ford Explorer, Apple iPhone.'}, 'entity': {'id': '1620189216029163524', 'name': 'ChatGPT'}}, {'domain': {'id': '131', 'name': 'Unified Twitter Taxonomy', 'description': 'A taxonomy of user interests. '}, 'entity': {'id': '848920371311001600', 'name': 'Technology', 'description': 'Technology and computing'}}, {'domain': {'id': '131', 'name': 'Unified Twitter Taxonomy', 'description': 'A taxonomy of user interests. '}, 'entity': {'id': '898262889378619392', 'name': 'Artificial intelligence', 'description': 'Artificial Intelligence'}}, {'domain': {'id': '165', 'name': 'Technology', 'description': 'for individual and types of technology, e.g., food technology, 3D printing'}, 'entity': {'id': '848920371311001600', 'name': 'Technology', 'description': 'Technology and computing'}}, {'domain': {'id': '165', 'name': 'Technology', 'description': 'for individual and types of technology, e.g., food technology, 3D printing'}, 'entity': {'id': '898262889378619392', 'name': 'Artificial intelligence', 'description': 'Artificial Intelligence'}}]\n"
     ]
    }
   ],
   "source": [
    "client = tw.Client(bearer_token=BEARER_TOKEN)\n",
    "\n",
    "\n",
    "# Queries info: https://github.com/twitterdev/getting-started-with-the-twitter-api-v2-for-academic-research/blob/main/modules/5-how-to-write-search-queries.md\n",
    "\n",
    "# -is:retweet means I don\"t want retweets\n",
    "# lang:en is asking for the tweets to be in english\n",
    "query = \"chatgpt OR #chatgpt OR gpt4 OR gpt3 -giveaway -btc -bitcoin -coin -crypto -is:retweet\"\n",
    "\n",
    "def search_tweets(query=query, start_time=None, end_time=None, max_results=100):\n",
    "    tweets = client.search_recent_tweets(query=query, \n",
    "                                         start_time=start_time,\n",
    "                                         end_time=end_time,\n",
    "                                         tweet_fields=[\n",
    "                                             \"context_annotations\", \n",
    "                                             \"created_at\",\n",
    "                                             \"author_id\",\n",
    "                                             \"public_metrics\",\n",
    "                                             \"referenced_tweets\",\n",
    "                                             \"possibly_sensitive\",\n",
    "                                             \"source\",\n",
    "                                             \"lang\",\n",
    "                                             \"entities\",\n",
    "                                         ], \n",
    "                                         user_fields=[\n",
    "                                             \"id\",\n",
    "                                             \"name\",\n",
    "                                             \"username\",\n",
    "                                             \"created_at\",\n",
    "                                             \"description\",\n",
    "                                             \"location\",\n",
    "                                             \"public_metrics\",\n",
    "                                             \"verified\",\n",
    "                                             \"profile_image_url\"\n",
    "                                         ],\n",
    "                                         expansions=\"author_id\",\n",
    "                                         max_results=max_results)\n",
    "    \n",
    "    return tweets\n",
    "\n",
    "\n",
    "tweets = search_tweets(max_results=10)\n",
    "\n",
    "\n",
    "# What context_annotations are: \n",
    "# https://developer.twitter.com/en/docs/twitter-api/annotations/overview\n",
    "# (not using them for now)\n",
    "\n",
    "for tweet in tweets.data[:1]:\n",
    "    print(tweet.text)\n",
    "    if len(tweet.context_annotations) > 0:\n",
    "        print(tweet.context_annotations)"
   ]
  },
  {
   "cell_type": "code",
   "execution_count": 5,
   "id": "cc0c5ba8",
   "metadata": {
    "execution": {
     "iopub.execute_input": "2023-05-14T20:22:58.891914Z",
     "iopub.status.busy": "2023-05-14T20:22:58.891410Z",
     "iopub.status.idle": "2023-05-14T20:22:58.902613Z",
     "shell.execute_reply": "2023-05-14T20:22:58.900891Z"
    },
    "papermill": {
     "duration": 0.024004,
     "end_time": "2023-05-14T20:22:58.905573",
     "exception": false,
     "start_time": "2023-05-14T20:22:58.881569",
     "status": "completed"
    },
    "tags": []
   },
   "outputs": [
    {
     "name": "stdout",
     "output_type": "stream",
     "text": [
      "1531108808344453125\n",
      "2022-05-30 03:04:51+00:00\n",
      "iirrizzztl5gafc\n",
      "ChatGPT账号批发/Chatgpt plus/Chatgpt注册/new bing\n",
      "None\n",
      "False\n",
      "{'followers_count': 45, 'following_count': 73, 'tweet_count': 1122, 'listed_count': 0}\n",
      "https://pbs.twimg.com/profile_images/1635623646374019073/g9anYwKj_normal.jpg\n"
     ]
    }
   ],
   "source": [
    "print(tweets.includes[\"users\"][0].id)\n",
    "print(tweets.includes[\"users\"][0].created_at)\n",
    "print(tweets.includes[\"users\"][0].username)\n",
    "print(tweets.includes[\"users\"][0].name)\n",
    "print(tweets.includes[\"users\"][0].location)\n",
    "print(tweets.includes[\"users\"][0].verified)\n",
    "print(tweets.includes[\"users\"][0].public_metrics)\n",
    "print(tweets.includes[\"users\"][0].profile_image_url)"
   ]
  },
  {
   "cell_type": "code",
   "execution_count": 6,
   "id": "ce9976fe",
   "metadata": {
    "execution": {
     "iopub.execute_input": "2023-05-14T20:22:58.926242Z",
     "iopub.status.busy": "2023-05-14T20:22:58.925818Z",
     "iopub.status.idle": "2023-05-14T20:22:58.935320Z",
     "shell.execute_reply": "2023-05-14T20:22:58.933878Z"
    },
    "papermill": {
     "duration": 0.024234,
     "end_time": "2023-05-14T20:22:58.938392",
     "exception": false,
     "start_time": "2023-05-14T20:22:58.914158",
     "status": "completed"
    },
    "tags": []
   },
   "outputs": [
    {
     "data": {
      "text/plain": [
       "{'retweet_count': 4,\n",
       " 'reply_count': 0,\n",
       " 'like_count': 0,\n",
       " 'quote_count': 0,\n",
       " 'impression_count': 0}"
      ]
     },
     "execution_count": 6,
     "metadata": {},
     "output_type": "execute_result"
    }
   ],
   "source": [
    "tweets.data[0].public_metrics"
   ]
  },
  {
   "cell_type": "code",
   "execution_count": 7,
   "id": "e0b480d9",
   "metadata": {
    "execution": {
     "iopub.execute_input": "2023-05-14T20:22:58.958749Z",
     "iopub.status.busy": "2023-05-14T20:22:58.957828Z",
     "iopub.status.idle": "2023-05-14T20:22:58.967876Z",
     "shell.execute_reply": "2023-05-14T20:22:58.966675Z"
    },
    "papermill": {
     "duration": 0.023285,
     "end_time": "2023-05-14T20:22:58.970576",
     "exception": false,
     "start_time": "2023-05-14T20:22:58.947291",
     "status": "completed"
    },
    "tags": []
   },
   "outputs": [
    {
     "data": {
      "text/plain": [
       "{'mentions': [{'start': 3,\n",
       "   'end': 18,\n",
       "   'username': 'jhonatan9902_g',\n",
       "   'id': '2666640541'}],\n",
       " 'urls': [{'start': 75,\n",
       "   'end': 98,\n",
       "   'url': 'https://t.co/epfEzDgqvp',\n",
       "   'expanded_url': 'https://twitter.com/jhonatan9902_g/status/1657843061072830464/photo/1',\n",
       "   'display_url': 'pic.twitter.com/epfEzDgqvp',\n",
       "   'media_key': '3_1657842994102296576'}],\n",
       " 'hashtags': [{'start': 64, 'end': 74, 'tag': 'ChatGPT账号'}],\n",
       " 'annotations': [{'start': 53,\n",
       "   'end': 59,\n",
       "   'probability': 0.7848,\n",
       "   'type': 'Other',\n",
       "   'normalized_text': 'ChatGPT'},\n",
       "  {'start': 65,\n",
       "   'end': 71,\n",
       "   'probability': 0.4638,\n",
       "   'type': 'Other',\n",
       "   'normalized_text': 'ChatGPT'}]}"
      ]
     },
     "execution_count": 7,
     "metadata": {},
     "output_type": "execute_result"
    }
   ],
   "source": [
    "tweets.data[0].entities"
   ]
  },
  {
   "cell_type": "code",
   "execution_count": 8,
   "id": "770f1ed9",
   "metadata": {
    "execution": {
     "iopub.execute_input": "2023-05-14T20:22:58.990959Z",
     "iopub.status.busy": "2023-05-14T20:22:58.989880Z",
     "iopub.status.idle": "2023-05-14T20:22:58.996613Z",
     "shell.execute_reply": "2023-05-14T20:22:58.995605Z"
    },
    "papermill": {
     "duration": 0.019989,
     "end_time": "2023-05-14T20:22:58.999439",
     "exception": false,
     "start_time": "2023-05-14T20:22:58.979450",
     "status": "completed"
    },
    "tags": []
   },
   "outputs": [
    {
     "name": "stdout",
     "output_type": "stream",
     "text": [
      "We will collect up to 100 x 24 tweets \n",
      "From:\t2023-05-12 00:00:00 \n",
      "To:\t2023-05-13 00:00:00\n"
     ]
    }
   ],
   "source": [
    "dt_today = datetime.combine(datetime.today(), dt.time(0, 0, 0))\n",
    "print(f\"We will collect up to 100 x 24 tweets \\nFrom:\\t{dt_today - timedelta(days=1, hours=24)} \\nTo:\\t{dt_today - timedelta(days=1, hours=0)}\")"
   ]
  },
  {
   "cell_type": "code",
   "execution_count": 9,
   "id": "0e64c2bf",
   "metadata": {
    "execution": {
     "iopub.execute_input": "2023-05-14T20:22:59.021316Z",
     "iopub.status.busy": "2023-05-14T20:22:59.020471Z",
     "iopub.status.idle": "2023-05-14T20:22:59.041405Z",
     "shell.execute_reply": "2023-05-14T20:22:59.039802Z"
    },
    "papermill": {
     "duration": 0.03518,
     "end_time": "2023-05-14T20:22:59.044675",
     "exception": false,
     "start_time": "2023-05-14T20:22:59.009495",
     "status": "completed"
    },
    "tags": []
   },
   "outputs": [],
   "source": [
    "# Defining the extraction pipeline, it will go through each hour from the day before the previous day and will extract up to 100 tweets. \n",
    "# Then they are filtered and loaded into a temp DataFrame in order to only pick 1000 of them at the end randomly.\n",
    "\n",
    "def build_raw_dataframe(days_ago=1):\n",
    "    tweets_df = pd.DataFrame()\n",
    "    \n",
    "    # Extracting 200 tweets for each hour between 24 and 48 hours ago\n",
    "    for h in range(24, 0, -1):\n",
    "        start_time = dt_today - timedelta(days=days_ago, hours=h)\n",
    "        end_time = dt_today - timedelta(days=days_ago, hours=h-1)\n",
    "        \n",
    "        hour_tweets = search_tweets(start_time=start_time, end_time=end_time, max_results=100)\n",
    "        curr_dt = datetime.now()\n",
    "        \n",
    "        for tweet, user in zip(hour_tweets.data, hour_tweets.includes[\"users\"]):\n",
    "\n",
    "            # Keeping away from sensitive content :)\n",
    "            if tweet.possibly_sensitive:\n",
    "                continue\n",
    "                \n",
    "            # Exclude users with default profile images\n",
    "            if user.profile_image_url.endswith('default_profile_normal.png'):\n",
    "                continue\n",
    "                \n",
    "            if tweet.entities:\n",
    "                # Check content of the tweet\n",
    "                max_hashtags = 5\n",
    "                max_mentions = 5\n",
    "                max_urls = 3\n",
    "                \n",
    "                hashtags = tweet.entities.get('hashtags') or []\n",
    "                mentions = tweet.entities.get('mentions') or []\n",
    "                urls = tweet.entities.get('urls') or []\n",
    "\n",
    "                if (len(hashtags) > max_hashtags or len(mentions) > max_mentions or len(urls) > max_urls):\n",
    "                    continue\n",
    "                    \n",
    "                if hashtags:\n",
    "                    hashtags = [hashtag[\"tag\"] for hashtag in hashtags]\n",
    "                else:\n",
    "                    hashtags = []\n",
    "\n",
    "            tweets_df = tweets_df.append(pd.DataFrame({\"tweet_id\": tweet.id,\n",
    "                                                       \"tweet_created\": tweet.created_at,\n",
    "                                                       \"tweet_extracted\": curr_dt,\n",
    "                                                       \"text\": tweet.text,\n",
    "                                                       \"lang\": tweet.lang,\n",
    "                                                       \"user_id\": user.id,\n",
    "                                                       \"user_name\": user.name, \n",
    "                                                       \"user_username\": user.username,\n",
    "                                                       \"user_location\": user.location,\n",
    "                                                       \"user_description\": user.description,\n",
    "                                                       \"user_created\": user.created_at,\n",
    "                                                       \"user_followers_count\": user.public_metrics[\"followers_count\"],\n",
    "                                                       \"user_following_count\": user.public_metrics[\"following_count\"],\n",
    "                                                       \"user_tweet_count\": user.public_metrics[\"tweet_count\"],\n",
    "                                                       \"user_verified\": user.verified,\n",
    "                                                       #\"hashtags\": hashtags if tweet.entities else [],\n",
    "                                                       \"source\": tweet.source,\n",
    "                                                       \"retweet_count\": tweet.public_metrics[\"retweet_count\"],\n",
    "                                                       \"like_count\": tweet.public_metrics[\"like_count\"],\n",
    "                                                       \"reply_count\": tweet.public_metrics[\"reply_count\"],\n",
    "                                                       \"impression_count\": tweet.public_metrics[\"impression_count\"],\n",
    "                                                       #\"is_retweet\": tweet.retweeted,\n",
    "                                                      }, \n",
    "                                                        index=[0])\n",
    "                                    )\n",
    "    return tweets_df"
   ]
  },
  {
   "cell_type": "code",
   "execution_count": 10,
   "id": "6f7f6cde",
   "metadata": {
    "execution": {
     "iopub.execute_input": "2023-05-14T20:22:59.065827Z",
     "iopub.status.busy": "2023-05-14T20:22:59.064616Z",
     "iopub.status.idle": "2023-05-14T20:23:27.380434Z",
     "shell.execute_reply": "2023-05-14T20:23:27.378783Z"
    },
    "papermill": {
     "duration": 28.329367,
     "end_time": "2023-05-14T20:23:27.383424",
     "exception": false,
     "start_time": "2023-05-14T20:22:59.054057",
     "status": "completed"
    },
    "tags": []
   },
   "outputs": [
    {
     "name": "stdout",
     "output_type": "stream",
     "text": [
      "(1000, 20)\n"
     ]
    },
    {
     "data": {
      "text/html": [
       "<div>\n",
       "<style scoped>\n",
       "    .dataframe tbody tr th:only-of-type {\n",
       "        vertical-align: middle;\n",
       "    }\n",
       "\n",
       "    .dataframe tbody tr th {\n",
       "        vertical-align: top;\n",
       "    }\n",
       "\n",
       "    .dataframe thead th {\n",
       "        text-align: right;\n",
       "    }\n",
       "</style>\n",
       "<table border=\"1\" class=\"dataframe\">\n",
       "  <thead>\n",
       "    <tr style=\"text-align: right;\">\n",
       "      <th></th>\n",
       "      <th>tweet_id</th>\n",
       "      <th>tweet_created</th>\n",
       "      <th>tweet_extracted</th>\n",
       "      <th>text</th>\n",
       "      <th>lang</th>\n",
       "      <th>user_id</th>\n",
       "      <th>user_name</th>\n",
       "      <th>user_username</th>\n",
       "      <th>user_location</th>\n",
       "      <th>user_description</th>\n",
       "      <th>user_created</th>\n",
       "      <th>user_followers_count</th>\n",
       "      <th>user_following_count</th>\n",
       "      <th>user_tweet_count</th>\n",
       "      <th>user_verified</th>\n",
       "      <th>source</th>\n",
       "      <th>retweet_count</th>\n",
       "      <th>like_count</th>\n",
       "      <th>reply_count</th>\n",
       "      <th>impression_count</th>\n",
       "    </tr>\n",
       "  </thead>\n",
       "  <tbody>\n",
       "    <tr>\n",
       "      <th>0</th>\n",
       "      <td>1657143437387235330</td>\n",
       "      <td>2023-05-12 21:59:18+00:00</td>\n",
       "      <td>2023-05-14 20:23:23.672531</td>\n",
       "      <td>RT @itsPaulAi: ChatGPT has now a big problem.\\...</td>\n",
       "      <td>en</td>\n",
       "      <td>2932103068</td>\n",
       "      <td>Miguel Rodríguez</td>\n",
       "      <td>miguelmecro27</td>\n",
       "      <td>Colombia</td>\n",
       "      <td>🏍️ Biker... 💯% humano... Vendedor de cazerolas...</td>\n",
       "      <td>2014-12-19 14:16:13+00:00</td>\n",
       "      <td>138</td>\n",
       "      <td>391</td>\n",
       "      <td>3287</td>\n",
       "      <td>False</td>\n",
       "      <td>None</td>\n",
       "      <td>13521</td>\n",
       "      <td>0</td>\n",
       "      <td>0</td>\n",
       "      <td>0</td>\n",
       "    </tr>\n",
       "    <tr>\n",
       "      <th>0</th>\n",
       "      <td>1656886736763637760</td>\n",
       "      <td>2023-05-12 04:59:16+00:00</td>\n",
       "      <td>2023-05-14 20:23:03.579649</td>\n",
       "      <td>RT @HadiIrem: chatgpt, Twitter, Apple ID and o...</td>\n",
       "      <td>en</td>\n",
       "      <td>1213261503031209985</td>\n",
       "      <td>🐢</td>\n",
       "      <td>posamkid</td>\n",
       "      <td>None</td>\n",
       "      <td>#MAYVARMY</td>\n",
       "      <td>2020-01-04 00:51:07+00:00</td>\n",
       "      <td>27</td>\n",
       "      <td>379</td>\n",
       "      <td>4530</td>\n",
       "      <td>False</td>\n",
       "      <td>None</td>\n",
       "      <td>14</td>\n",
       "      <td>0</td>\n",
       "      <td>0</td>\n",
       "      <td>0</td>\n",
       "    </tr>\n",
       "    <tr>\n",
       "      <th>0</th>\n",
       "      <td>1656947229347942400</td>\n",
       "      <td>2023-05-12 08:59:38+00:00</td>\n",
       "      <td>2023-05-14 20:23:07.912692</td>\n",
       "      <td>Claude くんを slack にいれて一通りあそんだけど、ChatGPT くんよりも親し...</td>\n",
       "      <td>ja</td>\n",
       "      <td>14867458</td>\n",
       "      <td>溝口 浩二 coji💿</td>\n",
       "      <td>techtalkjp</td>\n",
       "      <td>None</td>\n",
       "      <td>プログラマー。数人規模で作られてるめっちゃ便利なものが好き。remix, playwrigh...</td>\n",
       "      <td>2008-05-22 12:02:30+00:00</td>\n",
       "      <td>562</td>\n",
       "      <td>674</td>\n",
       "      <td>1243</td>\n",
       "      <td>False</td>\n",
       "      <td>None</td>\n",
       "      <td>3</td>\n",
       "      <td>7</td>\n",
       "      <td>2</td>\n",
       "      <td>621</td>\n",
       "    </tr>\n",
       "    <tr>\n",
       "      <th>0</th>\n",
       "      <td>1656962344273186818</td>\n",
       "      <td>2023-05-12 09:59:42+00:00</td>\n",
       "      <td>2023-05-14 20:23:09.039324</td>\n",
       "      <td>RT @Aulia_Mayya: chatgpt, Twitter, Apple ID an...</td>\n",
       "      <td>en</td>\n",
       "      <td>2262736622</td>\n",
       "      <td>Chatgpt账号注册/推特账号/newbing/Chatgpt账号批发/Chatgptplus</td>\n",
       "      <td>Anggraeninas</td>\n",
       "      <td>Bogor</td>\n",
       "      <td>全网最低价，自助下单：https://t.co/lirgIcMUAo售后qq：2592563834</td>\n",
       "      <td>2013-12-26 11:41:06+00:00</td>\n",
       "      <td>95</td>\n",
       "      <td>199</td>\n",
       "      <td>3007</td>\n",
       "      <td>False</td>\n",
       "      <td>None</td>\n",
       "      <td>15</td>\n",
       "      <td>0</td>\n",
       "      <td>0</td>\n",
       "      <td>0</td>\n",
       "    </tr>\n",
       "    <tr>\n",
       "      <th>0</th>\n",
       "      <td>1657098289102086179</td>\n",
       "      <td>2023-05-12 18:59:54+00:00</td>\n",
       "      <td>2023-05-14 20:23:19.635360</td>\n",
       "      <td>RT @Adri_365: O que é o chatgpt comparado ao S...</td>\n",
       "      <td>pt</td>\n",
       "      <td>1364258176049295360</td>\n",
       "      <td>Júlia Maria</td>\n",
       "      <td>mariaju289</td>\n",
       "      <td>Lami, Porto Alegre</td>\n",
       "      <td></td>\n",
       "      <td>2021-02-23 16:58:05+00:00</td>\n",
       "      <td>161</td>\n",
       "      <td>158</td>\n",
       "      <td>438</td>\n",
       "      <td>False</td>\n",
       "      <td>None</td>\n",
       "      <td>17</td>\n",
       "      <td>0</td>\n",
       "      <td>0</td>\n",
       "      <td>0</td>\n",
       "    </tr>\n",
       "  </tbody>\n",
       "</table>\n",
       "</div>"
      ],
      "text/plain": [
       "              tweet_id             tweet_created            tweet_extracted  \\\n",
       "0  1657143437387235330 2023-05-12 21:59:18+00:00 2023-05-14 20:23:23.672531   \n",
       "0  1656886736763637760 2023-05-12 04:59:16+00:00 2023-05-14 20:23:03.579649   \n",
       "0  1656947229347942400 2023-05-12 08:59:38+00:00 2023-05-14 20:23:07.912692   \n",
       "0  1656962344273186818 2023-05-12 09:59:42+00:00 2023-05-14 20:23:09.039324   \n",
       "0  1657098289102086179 2023-05-12 18:59:54+00:00 2023-05-14 20:23:19.635360   \n",
       "\n",
       "                                                text lang  \\\n",
       "0  RT @itsPaulAi: ChatGPT has now a big problem.\\...   en   \n",
       "0  RT @HadiIrem: chatgpt, Twitter, Apple ID and o...   en   \n",
       "0  Claude くんを slack にいれて一通りあそんだけど、ChatGPT くんよりも親し...   ja   \n",
       "0  RT @Aulia_Mayya: chatgpt, Twitter, Apple ID an...   en   \n",
       "0  RT @Adri_365: O que é o chatgpt comparado ao S...   pt   \n",
       "\n",
       "               user_id                                         user_name  \\\n",
       "0           2932103068                                  Miguel Rodríguez   \n",
       "0  1213261503031209985                                                 🐢   \n",
       "0             14867458                                       溝口 浩二 coji💿   \n",
       "0           2262736622  Chatgpt账号注册/推特账号/newbing/Chatgpt账号批发/Chatgptplus   \n",
       "0  1364258176049295360                                       Júlia Maria   \n",
       "\n",
       "   user_username       user_location  \\\n",
       "0  miguelmecro27           Colombia    \n",
       "0       posamkid                None   \n",
       "0     techtalkjp                None   \n",
       "0   Anggraeninas               Bogor   \n",
       "0     mariaju289  Lami, Porto Alegre   \n",
       "\n",
       "                                    user_description  \\\n",
       "0  🏍️ Biker... 💯% humano... Vendedor de cazerolas...   \n",
       "0                                          #MAYVARMY   \n",
       "0  プログラマー。数人規模で作られてるめっちゃ便利なものが好き。remix, playwrigh...   \n",
       "0  全网最低价，自助下单：https://t.co/lirgIcMUAo售后qq：2592563834   \n",
       "0                                                      \n",
       "\n",
       "               user_created  user_followers_count  user_following_count  \\\n",
       "0 2014-12-19 14:16:13+00:00                   138                   391   \n",
       "0 2020-01-04 00:51:07+00:00                    27                   379   \n",
       "0 2008-05-22 12:02:30+00:00                   562                   674   \n",
       "0 2013-12-26 11:41:06+00:00                    95                   199   \n",
       "0 2021-02-23 16:58:05+00:00                   161                   158   \n",
       "\n",
       "   user_tweet_count  user_verified source  retweet_count  like_count  \\\n",
       "0              3287          False   None          13521           0   \n",
       "0              4530          False   None             14           0   \n",
       "0              1243          False   None              3           7   \n",
       "0              3007          False   None             15           0   \n",
       "0               438          False   None             17           0   \n",
       "\n",
       "   reply_count  impression_count  \n",
       "0            0                 0  \n",
       "0            0                 0  \n",
       "0            2               621  \n",
       "0            0                 0  \n",
       "0            0                 0  "
      ]
     },
     "execution_count": 10,
     "metadata": {},
     "output_type": "execute_result"
    }
   ],
   "source": [
    "last_day_df = build_raw_dataframe()\n",
    "n_sample = 1000 if len(last_day_df) > 1000 else len(last_day_df)\n",
    "last_day_df = last_day_df.sample(n=n_sample)\n",
    "\n",
    "print(last_day_df.shape)\n",
    "last_day_df.head()"
   ]
  },
  {
   "cell_type": "code",
   "execution_count": 11,
   "id": "959b44db",
   "metadata": {
    "execution": {
     "iopub.execute_input": "2023-05-14T20:23:27.424438Z",
     "iopub.status.busy": "2023-05-14T20:23:27.423581Z",
     "iopub.status.idle": "2023-05-14T20:23:29.757525Z",
     "shell.execute_reply": "2023-05-14T20:23:29.756094Z"
    },
    "papermill": {
     "duration": 2.348848,
     "end_time": "2023-05-14T20:23:29.760973",
     "exception": false,
     "start_time": "2023-05-14T20:23:27.412125",
     "status": "completed"
    },
    "tags": []
   },
   "outputs": [],
   "source": [
    "input_file_path = \"/kaggle/input/chatgpt-1000-daily-tweets/chatgpt_daily_tweets.csv\"\n",
    "output_file_path = \"/kaggle/working/chatgpt_daily_tweets.csv\"\n",
    "\n",
    "# Loading previous dataset\n",
    "old_days_df = pd.read_csv(input_file_path)\n",
    "\n",
    "# Concatenating all previous tweets with the new ones from the last day\n",
    "all_days_df = pd.concat([old_days_df, last_day_df], axis=0)\n",
    "\n",
    "# Sanity check\n",
    "all_days_df = all_days_df[all_days_df.tweet_id.notna()]\n",
    "\n",
    "# This will be the new file updated into the dataset\n",
    "all_days_df.to_csv(output_file_path, index=False)"
   ]
  },
  {
   "cell_type": "code",
   "execution_count": 12,
   "id": "3292ca24",
   "metadata": {
    "execution": {
     "iopub.execute_input": "2023-05-14T20:23:29.801595Z",
     "iopub.status.busy": "2023-05-14T20:23:29.800332Z",
     "iopub.status.idle": "2023-05-14T20:23:29.889365Z",
     "shell.execute_reply": "2023-05-14T20:23:29.887928Z"
    },
    "papermill": {
     "duration": 0.102969,
     "end_time": "2023-05-14T20:23:29.892429",
     "exception": false,
     "start_time": "2023-05-14T20:23:29.789460",
     "status": "completed"
    },
    "tags": []
   },
   "outputs": [
    {
     "name": "stdout",
     "output_type": "stream",
     "text": [
      "<class 'pandas.core.frame.DataFrame'>\n",
      "Int64Index: 43003 entries, 0 to 0\n",
      "Data columns (total 20 columns):\n",
      " #   Column                Non-Null Count  Dtype  \n",
      "---  ------                --------------  -----  \n",
      " 0   tweet_id              43003 non-null  object \n",
      " 1   tweet_created         43003 non-null  object \n",
      " 2   tweet_extracted       43003 non-null  object \n",
      " 3   text                  43003 non-null  object \n",
      " 4   lang                  43003 non-null  object \n",
      " 5   user_id               43003 non-null  object \n",
      " 6   user_name             42998 non-null  object \n",
      " 7   user_username         43003 non-null  object \n",
      " 8   user_location         25448 non-null  object \n",
      " 9   user_description      36575 non-null  object \n",
      " 10  user_created          42998 non-null  object \n",
      " 11  user_followers_count  42995 non-null  float64\n",
      " 12  user_following_count  42995 non-null  float64\n",
      " 13  user_tweet_count      42995 non-null  float64\n",
      " 14  user_verified         42995 non-null  object \n",
      " 15  source                0 non-null      object \n",
      " 16  retweet_count         42995 non-null  float64\n",
      " 17  like_count            42995 non-null  float64\n",
      " 18  reply_count           42995 non-null  float64\n",
      " 19  impression_count      42995 non-null  float64\n",
      "dtypes: float64(7), object(13)\n",
      "memory usage: 6.9+ MB\n"
     ]
    }
   ],
   "source": [
    "all_days_df.info()"
   ]
  },
  {
   "cell_type": "code",
   "execution_count": 13,
   "id": "cf919402",
   "metadata": {
    "execution": {
     "iopub.execute_input": "2023-05-14T20:23:29.914336Z",
     "iopub.status.busy": "2023-05-14T20:23:29.913871Z",
     "iopub.status.idle": "2023-05-14T20:23:29.921589Z",
     "shell.execute_reply": "2023-05-14T20:23:29.920354Z"
    },
    "papermill": {
     "duration": 0.022194,
     "end_time": "2023-05-14T20:23:29.924336",
     "exception": false,
     "start_time": "2023-05-14T20:23:29.902142",
     "status": "completed"
    },
    "tags": []
   },
   "outputs": [
    {
     "data": {
      "text/plain": [
       "(43003, 20)"
      ]
     },
     "execution_count": 13,
     "metadata": {},
     "output_type": "execute_result"
    }
   ],
   "source": [
    "all_days_df.shape"
   ]
  },
  {
   "cell_type": "code",
   "execution_count": 14,
   "id": "05936a28",
   "metadata": {
    "execution": {
     "iopub.execute_input": "2023-05-14T20:23:29.946367Z",
     "iopub.status.busy": "2023-05-14T20:23:29.945911Z",
     "iopub.status.idle": "2023-05-14T20:23:30.023901Z",
     "shell.execute_reply": "2023-05-14T20:23:30.022528Z"
    },
    "papermill": {
     "duration": 0.092578,
     "end_time": "2023-05-14T20:23:30.027081",
     "exception": false,
     "start_time": "2023-05-14T20:23:29.934503",
     "status": "completed"
    },
    "tags": []
   },
   "outputs": [
    {
     "data": {
      "text/plain": [
       "(Timestamp('2011-02-28 04:00:30+0000', tz='UTC'),\n",
       " Timestamp('2023-05-12 23:59:59+0000', tz='UTC'))"
      ]
     },
     "execution_count": 14,
     "metadata": {},
     "output_type": "execute_result"
    }
   ],
   "source": [
    "pd.to_datetime(all_days_df.tweet_created, utc=True).min(), pd.to_datetime(all_days_df.tweet_created, utc=True).max()"
   ]
  },
  {
   "cell_type": "code",
   "execution_count": 15,
   "id": "acbc7a47",
   "metadata": {
    "execution": {
     "iopub.execute_input": "2023-05-14T20:23:30.049700Z",
     "iopub.status.busy": "2023-05-14T20:23:30.048795Z",
     "iopub.status.idle": "2023-05-14T20:23:31.243654Z",
     "shell.execute_reply": "2023-05-14T20:23:31.242290Z"
    },
    "papermill": {
     "duration": 1.20946,
     "end_time": "2023-05-14T20:23:31.246994",
     "exception": false,
     "start_time": "2023-05-14T20:23:30.037534",
     "status": "completed"
    },
    "tags": []
   },
   "outputs": [
    {
     "data": {
      "text/plain": [
       "<AxesSubplot:title={'center':'Num. of Tweets for each Language, Total: 43003'}>"
      ]
     },
     "execution_count": 15,
     "metadata": {},
     "output_type": "execute_result"
    },
    {
     "data": {
      "image/png": "[encoded data removed]",
      "text/plain": [
       "<Figure size 1500x500 with 1 Axes>"
      ]
     },
     "metadata": {},
     "output_type": "display_data"
    }
   ],
   "source": [
    "all_days_df.lang.value_counts().plot(kind=\"bar\", figsize=(15, 5), title=f\"Num. of Tweets for each Language, Total: {len(all_days_df)}\")"
   ]
  }
 ],
 "metadata": {
  "kernelspec": {
   "display_name": "Python 3 (ipykernel)",
   "language": "python",
   "name": "python3"
  },
  "language_info": {
   "codemirror_mode": {
    "name": "ipython",
    "version": 3
   },
   "file_extension": ".py",
   "mimetype": "text/x-python",
   "name": "python",
   "nbconvert_exporter": "python",
   "pygments_lexer": "ipython3",
   "version": "3.9.13"
  },
  "papermill": {
   "default_parameters": {},
   "duration": 64.393666,
   "end_time": "2023-05-14T20:23:32.104933",
   "environment_variables": {},
   "exception": null,
   "input_path": "__notebook__.ipynb",
   "output_path": "__notebook__.ipynb",
   "parameters": {},
   "start_time": "2023-05-14T20:22:27.711267",
   "version": "2.4.0"
  }
 },
 "nbformat": 4,
 "nbformat_minor": 5
}
